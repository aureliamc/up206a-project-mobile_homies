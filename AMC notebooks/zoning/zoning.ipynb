{
 "cells": [
  {
   "cell_type": "code",
   "execution_count": 4,
   "id": "5d491ba6-2610-4536-a4f1-6668a008680e",
   "metadata": {},
   "outputs": [],
   "source": [
    "import osmnx as ox\n",
    "import geopandas as gpd\n",
    "import contextily as ctx\n",
    "import plotly.express as px\n",
    "import pandas as pd"
   ]
  },
  {
   "cell_type": "code",
   "execution_count": 6,
   "id": "ccff6152-f4e8-4081-9a69-c3f1ab74bcb8",
   "metadata": {},
   "outputs": [],
   "source": [
    "zoning = pd.read_csv('data/Zoning.csv')"
   ]
  },
  {
   "cell_type": "code",
   "execution_count": null,
   "id": "61f99d4a-a359-4e44-a9b8-efb2ee4afb78",
   "metadata": {},
   "outputs": [],
   "source": []
  }
 ],
 "metadata": {
  "kernelspec": {
   "display_name": "Python 3 (ipykernel)",
   "language": "python",
   "name": "python3"
  },
  "language_info": {
   "codemirror_mode": {
    "name": "ipython",
    "version": 3
   },
   "file_extension": ".py",
   "mimetype": "text/x-python",
   "name": "python",
   "nbconvert_exporter": "python",
   "pygments_lexer": "ipython3",
   "version": "3.9.6"
  }
 },
 "nbformat": 4,
 "nbformat_minor": 5
}
