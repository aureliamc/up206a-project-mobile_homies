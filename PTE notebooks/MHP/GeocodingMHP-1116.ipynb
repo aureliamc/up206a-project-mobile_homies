{
 "cells": [
  {
   "cell_type": "markdown",
   "id": "88c6617a-252f-4d28-9073-2fabd57b1fed",
   "metadata": {},
   "source": [
    "#**Geocoding Existing Mobile Home Parks (MHP) in Los Angeles County**"
   ]
  },
  {
   "cell_type": "markdown",
   "id": "61196be6-ed4e-4ce7-843d-b937591afa30",
   "metadata": {},
   "source": [
    "This notebook goes through the process of geocoding the mobile home park dataset from LA County. Since our data only included addresses, we will need to convert the addresses to geographic coordinates."
   ]
  },
  {
   "cell_type": "markdown",
   "id": "6f2578b6-ccf3-42c5-a311-9dd33968e049",
   "metadata": {},
   "source": [
    "**Import Libraries**"
   ]
  },
  {
   "cell_type": "code",
   "execution_count": 1,
   "id": "c0cde90d-be2b-499b-a72b-81c55d268bf5",
   "metadata": {},
   "outputs": [],
   "source": [
    "import osmnx as ox\n",
    "import geopandas as gpd\n",
    "import contextily as ctx\n",
    "import plotly.express as px\n",
    "import pandas as pd"
   ]
  },
  {
   "cell_type": "code",
   "execution_count": 2,
   "id": "4d675a80-d5f0-4bbd-bffe-b008418fc2b0",
   "metadata": {},
   "outputs": [],
   "source": [
    "mhp = pd.read_csv( 'Data/MHP_notgeocoded.csv')"
   ]
  },
  {
   "cell_type": "markdown",
   "id": "a64f71b6-2005-4d07-aaee-5ebf878bb9c7",
   "metadata": {},
   "source": [
    "**Data Exploration**"
   ]
  },
  {
   "cell_type": "code",
   "execution_count": 3,
   "id": "24043d24-c3b7-4f46-9ba4-b6212dafe870",
   "metadata": {
    "tags": []
   },
   "outputs": [
    {
     "data": {
      "text/html": [
       "<div>\n",
       "<style scoped>\n",
       "    .dataframe tbody tr th:only-of-type {\n",
       "        vertical-align: middle;\n",
       "    }\n",
       "\n",
       "    .dataframe tbody tr th {\n",
       "        vertical-align: top;\n",
       "    }\n",
       "\n",
       "    .dataframe thead th {\n",
       "        text-align: right;\n",
       "    }\n",
       "</style>\n",
       "<table border=\"1\" class=\"dataframe\">\n",
       "  <thead>\n",
       "    <tr style=\"text-align: right;\">\n",
       "      <th></th>\n",
       "      <th>Unnamed: 0</th>\n",
       "      <th>Park Name</th>\n",
       "      <th>County</th>\n",
       "      <th>Park Identifier</th>\n",
       "      <th>Park Address</th>\n",
       "      <th>City</th>\n",
       "      <th>Zip</th>\n",
       "      <th>Phone</th>\n",
       "      <th>Fire Authority</th>\n",
       "      <th>Jurisdiction</th>\n",
       "      <th>MH Spaces</th>\n",
       "      <th>RV Lots W/Drains</th>\n",
       "      <th>RV Lots W/O Drains</th>\n",
       "      <th>Operated by</th>\n",
       "      <th>lat</th>\n",
       "      <th>lon</th>\n",
       "    </tr>\n",
       "  </thead>\n",
       "  <tbody>\n",
       "    <tr>\n",
       "      <th>0</th>\n",
       "      <td>0</td>\n",
       "      <td>IMPERIAL TRAILER PARK</td>\n",
       "      <td>LOS ANGELES</td>\n",
       "      <td>13-0018-MP</td>\n",
       "      <td>600 N IMPERIAL AVE,  HAWTHORNE,  CA 90250</td>\n",
       "      <td>HAWTHORNE</td>\n",
       "      <td>90250</td>\n",
       "      <td>NaN</td>\n",
       "      <td>COUNTY OF LOS ANGELES, 5823 RICKENBACKER RD., ...</td>\n",
       "      <td>IMPERIAL COUNTY BUILDING DEPARTMENT, 801 MAIN ...</td>\n",
       "      <td>8</td>\n",
       "      <td>0</td>\n",
       "      <td>0</td>\n",
       "      <td>HOLCOM, BRADLEY, PO BOX 3162, SAN DIEGO, CA 92163</td>\n",
       "      <td>NaN</td>\n",
       "      <td>NaN</td>\n",
       "    </tr>\n",
       "    <tr>\n",
       "      <th>1</th>\n",
       "      <td>2</td>\n",
       "      <td>A &amp; A MOBILE HOME PARK</td>\n",
       "      <td>LOS ANGELES</td>\n",
       "      <td>19-0003-MP</td>\n",
       "      <td>7722 ATLANTIC BLVD,  CUDAHY,  CA 90201</td>\n",
       "      <td>CUDAHY</td>\n",
       "      <td>90201</td>\n",
       "      <td>(310) 676-0663</td>\n",
       "      <td>COUNTY OF LOS ANGELES, 5823 RICKENBACKER RD., ...</td>\n",
       "      <td>HCD - SOUTHERN AREA OFFICE, 3737 MAIN ST 400, ...</td>\n",
       "      <td>21</td>\n",
       "      <td>0</td>\n",
       "      <td>0</td>\n",
       "      <td>A &amp; A MHP LLC, 26895 ALISO CREEK RD #B876, ALI...</td>\n",
       "      <td>NaN</td>\n",
       "      <td>NaN</td>\n",
       "    </tr>\n",
       "    <tr>\n",
       "      <th>2</th>\n",
       "      <td>5</td>\n",
       "      <td>CACTUS CREEK</td>\n",
       "      <td>LOS ANGELES</td>\n",
       "      <td>19-0010-MP</td>\n",
       "      <td>3740 SMITH ST,  ACTON,  CA 93510</td>\n",
       "      <td>ACTON</td>\n",
       "      <td>93510</td>\n",
       "      <td>(661) 618-1155</td>\n",
       "      <td>COUNTY OF LOS ANGELES, 5823 RICKENBACKER RD., ...</td>\n",
       "      <td>HCD - SOUTHERN AREA OFFICE, 3737 MAIN ST 400, ...</td>\n",
       "      <td>10</td>\n",
       "      <td>0</td>\n",
       "      <td>0</td>\n",
       "      <td>PROPERTY REPAIR SERVICES, 915 WILSHIRE BLVD, #...</td>\n",
       "      <td>NaN</td>\n",
       "      <td>NaN</td>\n",
       "    </tr>\n",
       "    <tr>\n",
       "      <th>3</th>\n",
       "      <td>6</td>\n",
       "      <td>SANTI TP</td>\n",
       "      <td>LOS ANGELES</td>\n",
       "      <td>19-0012-MP</td>\n",
       "      <td>2730 N CHICO AVE,  S EL MONTE,  CA 91733</td>\n",
       "      <td>S EL MONTE</td>\n",
       "      <td>91733</td>\n",
       "      <td>(626) 222-2290</td>\n",
       "      <td>COUNTY OF LOS ANGELES, 5823 RICKENBACKER RD., ...</td>\n",
       "      <td>HCD - SOUTHERN AREA OFFICE, 3737 MAIN ST 400, ...</td>\n",
       "      <td>17</td>\n",
       "      <td>0</td>\n",
       "      <td>0</td>\n",
       "      <td>SANTI, NORMA, 8241 E GRAVES AVE, ROSEMEAD, CA ...</td>\n",
       "      <td>NaN</td>\n",
       "      <td>NaN</td>\n",
       "    </tr>\n",
       "    <tr>\n",
       "      <th>4</th>\n",
       "      <td>7</td>\n",
       "      <td>IMPERIAL TRAILER VILLAGE</td>\n",
       "      <td>LOS ANGELES</td>\n",
       "      <td>19-0019-MP</td>\n",
       "      <td>3905 W IMPERIAL HWY,  INGLEWOOD,  CA 90303</td>\n",
       "      <td>INGLEWOOD</td>\n",
       "      <td>90303</td>\n",
       "      <td>(310) 674-1419</td>\n",
       "      <td>COUNTY OF LOS ANGELES, 5823 RICKENBACKER RD., ...</td>\n",
       "      <td>HCD - SOUTHERN AREA OFFICE, 3737 MAIN ST 400, ...</td>\n",
       "      <td>17</td>\n",
       "      <td>0</td>\n",
       "      <td>0</td>\n",
       "      <td>RARICA, LLC, PO BOX 1753, PACIFIC PALISADES, C...</td>\n",
       "      <td>NaN</td>\n",
       "      <td>NaN</td>\n",
       "    </tr>\n",
       "  </tbody>\n",
       "</table>\n",
       "</div>"
      ],
      "text/plain": [
       "   Unnamed: 0                 Park Name       County Park Identifier  \\\n",
       "0           0     IMPERIAL TRAILER PARK  LOS ANGELES      13-0018-MP   \n",
       "1           2    A & A MOBILE HOME PARK  LOS ANGELES      19-0003-MP   \n",
       "2           5              CACTUS CREEK  LOS ANGELES      19-0010-MP   \n",
       "3           6                  SANTI TP  LOS ANGELES      19-0012-MP   \n",
       "4           7  IMPERIAL TRAILER VILLAGE  LOS ANGELES      19-0019-MP   \n",
       "\n",
       "                                 Park Address         City    Zip  \\\n",
       "0   600 N IMPERIAL AVE,  HAWTHORNE,  CA 90250    HAWTHORNE  90250   \n",
       "1      7722 ATLANTIC BLVD,  CUDAHY,  CA 90201       CUDAHY  90201   \n",
       "2            3740 SMITH ST,  ACTON,  CA 93510        ACTON  93510   \n",
       "3    2730 N CHICO AVE,  S EL MONTE,  CA 91733   S EL MONTE  91733   \n",
       "4  3905 W IMPERIAL HWY,  INGLEWOOD,  CA 90303    INGLEWOOD  90303   \n",
       "\n",
       "             Phone                                     Fire Authority  \\\n",
       "0              NaN  COUNTY OF LOS ANGELES, 5823 RICKENBACKER RD., ...   \n",
       "1   (310) 676-0663  COUNTY OF LOS ANGELES, 5823 RICKENBACKER RD., ...   \n",
       "2   (661) 618-1155  COUNTY OF LOS ANGELES, 5823 RICKENBACKER RD., ...   \n",
       "3   (626) 222-2290  COUNTY OF LOS ANGELES, 5823 RICKENBACKER RD., ...   \n",
       "4   (310) 674-1419  COUNTY OF LOS ANGELES, 5823 RICKENBACKER RD., ...   \n",
       "\n",
       "                                        Jurisdiction  MH Spaces  \\\n",
       "0  IMPERIAL COUNTY BUILDING DEPARTMENT, 801 MAIN ...          8   \n",
       "1  HCD - SOUTHERN AREA OFFICE, 3737 MAIN ST 400, ...         21   \n",
       "2  HCD - SOUTHERN AREA OFFICE, 3737 MAIN ST 400, ...         10   \n",
       "3  HCD - SOUTHERN AREA OFFICE, 3737 MAIN ST 400, ...         17   \n",
       "4  HCD - SOUTHERN AREA OFFICE, 3737 MAIN ST 400, ...         17   \n",
       "\n",
       "   RV Lots W/Drains  RV Lots W/O Drains  \\\n",
       "0                 0                   0   \n",
       "1                 0                   0   \n",
       "2                 0                   0   \n",
       "3                 0                   0   \n",
       "4                 0                   0   \n",
       "\n",
       "                                         Operated by  lat  lon  \n",
       "0  HOLCOM, BRADLEY, PO BOX 3162, SAN DIEGO, CA 92163  NaN  NaN  \n",
       "1  A & A MHP LLC, 26895 ALISO CREEK RD #B876, ALI...  NaN  NaN  \n",
       "2  PROPERTY REPAIR SERVICES, 915 WILSHIRE BLVD, #...  NaN  NaN  \n",
       "3  SANTI, NORMA, 8241 E GRAVES AVE, ROSEMEAD, CA ...  NaN  NaN  \n",
       "4  RARICA, LLC, PO BOX 1753, PACIFIC PALISADES, C...  NaN  NaN  "
      ]
     },
     "execution_count": 3,
     "metadata": {},
     "output_type": "execute_result"
    }
   ],
   "source": [
    "mhp.head()"
   ]
  },
  {
   "cell_type": "markdown",
   "id": "7589e35f-093e-465f-8f1a-b981d78bbfe6",
   "metadata": {},
   "source": [
    "**Trim the Data**"
   ]
  },
  {
   "cell_type": "code",
   "execution_count": null,
   "id": "0ca3517f-60fd-488c-a9c5-a88fcf1aad75",
   "metadata": {},
   "outputs": [],
   "source": [
    "mhp.info()"
   ]
  },
  {
   "cell_type": "markdown",
   "id": "e5158fd5-27ce-4d32-a8b9-c8a946bc8b10",
   "metadata": {},
   "source": [
    "*Because the dataset doesn't have accessive columns, I will keep them in case I want to explore with them later for another analysis*"
   ]
  },
  {
   "cell_type": "markdown",
   "id": "dc48ee53-8e2f-4ee5-9b31-f6101f9f51e3",
   "metadata": {},
   "source": [
    "**Add the lat/lon columns**"
   ]
  },
  {
   "cell_type": "markdown",
   "id": "5ddb5d31-807f-4bf6-ac64-898bb93dce31",
   "metadata": {},
   "source": [
    "This command will allow me to add empty lat/lon columns to our dataframe as placeholders for the geocoding."
   ]
  },
  {
   "cell_type": "code",
   "execution_count": null,
   "id": "1d37b010-ccc1-4343-84c1-715a9857c7f2",
   "metadata": {},
   "outputs": [],
   "source": [
    "mhp['lat'] = pd.Series(dtype='float')\n",
    "mhp['lon'] = pd.Series(dtype='float')"
   ]
  },
  {
   "cell_type": "code",
   "execution_count": null,
   "id": "ba97e63c-bc85-4148-a7dc-bf4d49e1c6bd",
   "metadata": {},
   "outputs": [],
   "source": [
    "mhp.head()"
   ]
  },
  {
   "cell_type": "markdown",
   "id": "c4a770c1-37b0-4b51-8a35-290f0812693f",
   "metadata": {},
   "source": [
    "**Loop & geocode**"
   ]
  },
  {
   "cell_type": "markdown",
   "id": "0e599d42-d42b-495c-8341-f98a01302aa3",
   "metadata": {},
   "source": [
    "Now that I have added the columns, I can begin geocoding. First I will loop through list and add to dataframe with lat/lon's"
   ]
  },
  {
   "cell_type": "code",
   "execution_count": 4,
   "id": "c4612a2e-49e7-44f8-87fa-9ea1aca4f5eb",
   "metadata": {},
   "outputs": [
    {
     "data": {
      "text/plain": [
       "0            600 N IMPERIAL AVE,  HAWTHORNE,  CA 90250\n",
       "1               7722 ATLANTIC BLVD,  CUDAHY,  CA 90201\n",
       "2                     3740 SMITH ST,  ACTON,  CA 93510\n",
       "3             2730 N CHICO AVE,  S EL MONTE,  CA 91733\n",
       "4           3905 W IMPERIAL HWY,  INGLEWOOD,  CA 90303\n",
       "                            ...                       \n",
       "217    42505 RANCH CLUB RD,  LAKE ELIZABETH,  CA 93532\n",
       "218               13691 GAVINA AVE,  SYLMAR,  CA 91342\n",
       "219           1030 EAST AVENUE S,  PALMDALE,  CA 93550\n",
       "220                 1535 SIERRA HWY,  ACTON,  CA 93510\n",
       "221           17100 S GRAMERCY PL,  GARDENA,  CA 90247\n",
       "Name: Park Address, Length: 222, dtype: object"
      ]
     },
     "execution_count": 4,
     "metadata": {},
     "output_type": "execute_result"
    }
   ],
   "source": [
    "mhp['Park Address']"
   ]
  },
  {
   "cell_type": "code",
   "execution_count": 6,
   "id": "748aae8b-856b-44ce-bfa7-0b8bdb719fa6",
   "metadata": {},
   "outputs": [],
   "source": [
    "locations = gpd.tools.geocode(mhp['Park Address'], provider='photon')"
   ]
  },
  {
   "cell_type": "code",
   "execution_count": 8,
   "id": "ca332986-a919-4571-91f0-420e734cac02",
   "metadata": {},
   "outputs": [
    {
     "data": {
      "text/plain": [
       "<AxesSubplot:>"
      ]
     },
     "execution_count": 8,
     "metadata": {},
     "output_type": "execute_result"
    },
    {
     "data": {
      "image/png": "[encoded data removed]",
      "text/plain": [
       "<Figure size 432x288 with 1 Axes>"
      ]
     },
     "metadata": {
      "needs_background": "light"
     },
     "output_type": "display_data"
    }
   ],
   "source": [
    "locations.plot()"
   ]
  },
  {
   "cell_type": "code",
   "execution_count": 15,
   "id": "b5e89592-416b-4b8c-a3a9-c4eb37779df4",
   "metadata": {},
   "outputs": [
    {
     "data": {
      "text/html": [
       "<div>\n",
       "<style scoped>\n",
       "    .dataframe tbody tr th:only-of-type {\n",
       "        vertical-align: middle;\n",
       "    }\n",
       "\n",
       "    .dataframe tbody tr th {\n",
       "        vertical-align: top;\n",
       "    }\n",
       "\n",
       "    .dataframe thead th {\n",
       "        text-align: right;\n",
       "    }\n",
       "</style>\n",
       "<table border=\"1\" class=\"dataframe\">\n",
       "  <thead>\n",
       "    <tr style=\"text-align: right;\">\n",
       "      <th></th>\n",
       "      <th>geometry</th>\n",
       "      <th>address</th>\n",
       "    </tr>\n",
       "  </thead>\n",
       "  <tbody>\n",
       "    <tr>\n",
       "      <th>0</th>\n",
       "      <td>POINT (-118.24277 34.05369)</td>\n",
       "      <td>Los Angeles, California, United States</td>\n",
       "    </tr>\n",
       "  </tbody>\n",
       "</table>\n",
       "</div>"
      ],
      "text/plain": [
       "                      geometry                                 address\n",
       "0  POINT (-118.24277 34.05369)  Los Angeles, California, United States"
      ]
     },
     "execution_count": 15,
     "metadata": {},
     "output_type": "execute_result"
    }
   ],
   "source": [
    "\n",
    " gpd.tools.geocode('Los Angeles', provider='photon')"
   ]
  },
  {
   "cell_type": "code",
   "execution_count": 11,
   "id": "bfa99123-92df-4ddb-8768-281b55f54947",
   "metadata": {
    "tags": []
   },
   "outputs": [
    {
     "name": "stdout",
     "output_type": "stream",
     "text": [
      "Could not geocode 600 N IMPERIAL AVE,  HAWTHORNE,  CA 90250\n",
      "Could not geocode 7722 ATLANTIC BLVD,  CUDAHY,  CA 90201\n",
      "Could not geocode 3740 SMITH ST,  ACTON,  CA 93510\n",
      "Could not geocode 2730 N CHICO AVE,  S EL MONTE,  CA 91733\n",
      "Could not geocode 3905 W IMPERIAL HWY,  INGLEWOOD,  CA 90303\n",
      "Could not geocode 15012 LEMOLI AVE,  GARDENA,  CA 90249\n",
      "Could not geocode 1422 E ROSECRANS,  COMPTON,  CA 90220\n",
      "Could not geocode 43667 TR. K ELIZABETH LAKE,  LAKE HUGHES,  CA 93532\n",
      "Could not geocode 8807 E PALMDALE BLVD,  PALMDALE,  CA 93550\n",
      "Could not geocode 9023 E ROSE ST,  BELLFLOWER,  CA 90706\n",
      "Could not geocode 10026 E KLENGERMAN AVE,  S EL MONTE,  CA 91733\n",
      "Could not geocode 7221 E SOMERSET AVE #0223,  PARAMOUNT,  CA 90723\n",
      "Could not geocode 13713 S VERMONT,  GARDENA,  CA 90247\n",
      "Could not geocode 24210 E EAST FORK RD,  AZUSA,  CA 91702\n",
      "Could not geocode 8614 E FLOWER,  PARAMOUNT,  CA 90723\n",
      "Could not geocode 2449 LOMA AVE #0053,  S EL MONTE,  CA 91733\n",
      "Could not geocode 15021 S WADSWORTH,  COMPTON,  CA 90220\n",
      "Could not geocode 9427 E RUSH ST,  S EL MONTE,  CA 91733\n",
      "Could not geocode 16754 E AVE X,  LLANO,  CA 93544\n",
      "Could not geocode 8933 S SANTA FE SPRINGS RD,  WHITTIER,  CA 90606\n",
      "Could not geocode 11017 33 DODSON ST,  EL MONTE,  CA 91731\n",
      "Could not geocode 9561 E GARVEY AVENUE,  S EL MONTE,  CA 91733\n",
      "Could not geocode 17444 S LAKEWOOD BLVD,  BELLFLOWER,  CA 90706\n",
      "Could not geocode 9921 FLORA VISTA AVE,  BELLFLOWER,  CA 90706\n",
      "Could not geocode 24833 N SAN FERNANDO RD,  SANTA CLARITA,  CA 91321\n",
      "Could not geocode 9235 E ARTESIA,  BELLFLOWER,  CA 90706\n",
      "Could not geocode 13720 E VALLEY BLVD,  LA PUENTE,  CA 91746\n",
      "Could not geocode 5825 E FLORENCE AVE,  BELL GARDENS,  CA 90201\n",
      "Could not geocode 12224 MAGNOLIA AVE #0058,  EL MONTE,  CA 91733\n",
      "Could not geocode 6600 E GAGE AVE,  BELL GARDENS,  CA 90201\n",
      "Could not geocode 9141 E ALONDRA BLVD,  BELLFLOWER,  CA 90706\n",
      "Could not geocode 11825 E WASHINGTON BLVD,  WHITTIER,  CA 90606\n",
      "Could not geocode 8422 GARFIELD,  BELL GARDENS,  CA 90201\n",
      "Could not geocode 2743 N HUMBERT AVE,  S EL MONTE,  CA 91733\n",
      "Could not geocode 14946 E VALLEY BLVD,  LA PUENTE,  CA 91744\n",
      "Could not geocode 10931 S FIRST AVE,  WHITTIER,  CA 90603\n",
      "Could not geocode 9021 E ALONDRA BLVD,  BELLFLOWER,  CA 90706\n",
      "Could not geocode 9122-9204 E ARTESIA BLVD,  BELLFLOWER,  CA 90706\n",
      "Could not geocode 8707 E GARVEY,  ROSEMEAD,  CA 91770\n",
      "Could not geocode 12239 MAGNOLIA AVE,  EL MONTE,  CA 91733\n",
      "Could not geocode 9740 E CEDAR ST,  BELLFLOWER,  CA 90706\n",
      "Could not geocode 16118 BELLFLOWER BLVD #0009,  BELLFLOWER,  CA 90706\n",
      "Could not geocode 13440 S LAKEWOOD BLVD,  BELLFLOWER,  CA 90706\n",
      "Could not geocode 5919 E FLORENCE AVE,  BELL GARDENS,  CA 90201\n",
      "Could not geocode 16234 S BELLFLOWER,  BELLFLOWER,  CA 90706\n",
      "Could not geocode 8647 E CEDAR ST,  BELLFLOWER,  CA 90706\n",
      "Could not geocode 8510 ELIZABETH LAKE RD,  LEONA VALLEY,  CA 93551\n",
      "Could not geocode 503 E OAKS AVE,  COMPTON,  CA 90221\n",
      "Could not geocode 16540 E WHITTIER BLVD,  WHITTIER,  CA 90603\n",
      "Could not geocode 19548 CYPRESS AVE,  COVINA,  CA 91724\n",
      "Could not geocode 1851 W.  LOMITA BLVD,  LOMITA,  CA 90717\n",
      "Could not geocode 720 E COMPTON,  COMPTON,  CA 90220\n",
      "Could not geocode 8834 E GARVEY AVE  #12,  ROSEMEAD,  CA 91770\n",
      "Could not geocode 5629 GOTHAM AVE,  BELL GARDENS,  CA 90201\n",
      "Could not geocode 5654 SHULL,  BELL GARDENS,  CA 90201\n",
      "Could not geocode 14834 LAKEWOOD BLVD #0118,  BELLFLOWER,  CA 90706\n",
      "Could not geocode 2710 N LEE AVE,  S EL MONTE,  CA 91733\n",
      "Could not geocode 9736 E VALLEY BLVD,  ROSEMEAD,  CA 91770\n",
      "Could not geocode 6631 SALT LAKE AVE,  BELL,  CA 90201\n",
      "Could not geocode 2300 NADEAU ST,  HUNTINGTON PARK,  CA 90255\n",
      "Could not geocode 2621 NEVADA ST,  EL MONTE,  CA 91733\n",
      "Could not geocode 21926 S VERMONT,  TORRANCE,  CA 90502\n",
      "Could not geocode 404 S CENTRAL,  COMPTON,  CA 90220\n",
      "Could not geocode 13418 S LAKEWOOD BLVD,  BELLFLOWER,  CA 90706\n",
      "Could not geocode 15828 E WHITTIER BLVD,  WHITTIER,  CA 90603\n",
      "Could not geocode 16002 S ATLANTIC,  COMPTON,  CA 90221\n",
      "Could not geocode 8006 S ATLANTIC AVE,  CUDAHY,  CA 90201\n",
      "Could not geocode 375 E SAN BERNARDINO RD,  COVINA,  CA 91723\n",
      "Could not geocode 5943 CECILA,  BELL GARDENS,  CA 90201\n",
      "Could not geocode 43155 N SIERRA HWY,  LANCASTER,  CA 93534\n",
      "Could not geocode 9540 E GARVEY AVE #0036,  S EL MONTE,  CA 91733\n",
      "Could not geocode 2548 S PECK RD,  MONROVIA,  CA 91016\n",
      "Could not geocode 9022 S PAINTER AVE,  WHITTIER,  CA 90602\n",
      "Could not geocode 1622 EL SEGUNDO BLVD,  GARDENA,  CA 90247\n",
      "Could not geocode 15523 LAKEWOOD BLVD,  PARAMOUNT,  CA 90723\n",
      "Could not geocode 13515 S. MARIPOSA AVE.,  GARDENA,  CA 90247\n",
      "Could not geocode 12753 W SIERRA HWY,  AGUA DULCE,  CA 91350\n",
      "Could not geocode 17604 08 S LAKEWOOD BLVD,  BELLFLOWER,  CA 90706\n",
      "Could not geocode 15717 S WOODRUFF AVE,  BELLFLOWER,  CA 90706\n",
      "Could not geocode 8069 E GARVEY AVE,  ROSEMEAD,  CA 91770\n",
      "Could not geocode 3825 W VALLEY BLVD,  POMONA,  CA 91765\n",
      "Could not geocode 44122 N 20TH ST EAST,  LANCASTER,  CA 93535\n",
      "Could not geocode 21104 S NORMANDIE AVE,  TORRANCE,  CA 90502\n",
      "Could not geocode 6656 ROSECRANS,  PARAMOUNT,  CA 90723\n",
      "Could not geocode 8723 ARTESIA BLVD RESIDENT LOT #41,  BELLFLOWER,  CA 90706\n",
      "Could not geocode 7000 E GAGE AVE #7,  BELL GARDENS,  CA 90201\n",
      "Could not geocode 9097 E ROSECRANS AVE,  BELLFLOWER,  CA 90706\n",
      "Could not geocode 9113 E ROSECRANS,  BELLFLOWER,  CA 90706\n",
      "Could not geocode 38525 E 90TH ST,  PALMDALE,  CA 93550\n",
      "Could not geocode 2101 W 245TH ST,  LOMITA,  CA 90717\n",
      "Could not geocode 2350 W 250TH ST,  LOMITA,  CA 90717\n",
      "Could not geocode 38015 65TH ST EAST,  PALMDALE,  CA 93550\n",
      "Could not geocode 37855 90TH ST EAST,  LITTLEROCK,  CA 93543\n",
      "Could not geocode 4423 N ROSEMEAD BLVD,  ROSEMEAD,  CA 91770\n",
      "Could not geocode 35959 N 77TH ST EAST,  LITTLEROCK,  CA 93543\n",
      "Could not geocode 45446 N 7TH ST EAST,  LANCASTER,  CA 93535\n",
      "Could not geocode 1548 N TOPANGA BLVD,  TOPANGA,  CA 90290\n",
      "Could not geocode 15040 E VALLEY BLVD,  LA PUENTE,  CA 91746\n",
      "Could not geocode 338 W AVE J8,  LANCASTER,  CA 93534\n",
      "Could not geocode 22325 S VERMONT,  TORRANCE,  CA 90502\n",
      "Could not geocode 12401 FILMORE ST,  SYLMAR,  CA 91342\n",
      "Could not geocode 12147 E LAKELAND RD,  SANTA FE SPRINGS,  CA 90670\n",
      "Could not geocode 45131 N 28TH ST EAST,  LANCASTER,  CA 93535\n",
      "Could not geocode 45541 N 30TH ST EAST,  LANCASTER,  CA 93535\n",
      "Could not geocode 8600 CONTRERAS,  PARAMOUNT,  CA 90723\n",
      "Could not geocode 1618 W 132ND,  GARDENA,  CA 90249\n",
      "Could not geocode 45125 N 30TH ST EAST,  LANCASTER,  CA 93535\n",
      "Could not geocode 721 WEST AVE EAST,  LANCASTER,  CA 93534\n",
      "Could not geocode 22335 S VERMONT AVE,  TORRANCE,  CA 90502\n",
      "Could not geocode 39820 N 145TH ST EAST,  PALMDALE,  CA 93550\n",
      "Could not geocode 21900 S MARTIN ST,  CARSON,  CA 90745\n",
      "Could not geocode 1265- 1307  W 134TH ST,  GARDENA,  CA 90247\n",
      "Could not geocode 5259 LIVE OAK ST,  BELL,  CA 90201\n",
      "Could not geocode 1380 N CITRUS,  COVINA,  CA 91722\n",
      "Could not geocode 21834 S GRACE AVE,  CARSON,  CA 90745\n",
      "Could not geocode 7520 26 ATLANTIC AVE,  CUDAHY,  CA 90201\n",
      "Could not geocode 12550 E CARSON BLVD,  HAWAIIAN GARDENS,  CA 90716\n",
      "Could not geocode 22516 S NORMANDIE AVE,  TORRANCE,  CA 90502\n",
      "Could not geocode 840 E FOOTHILL,  AZUSA,  CA 91702\n",
      "Could not geocode 24100 PINE CANYON RD,  LAKE HUGHES,  CA 93532\n",
      "Could not geocode 22600 S NORMANDIE AVE,  TORRANCE,  CA 90502\n",
      "Could not geocode 2436 W LOMITA BLVD,  LOMITA,  CA 90717\n",
      "Could not geocode 9045 E ALONDRA BLVD,  BELLFLOWER,  CA 90706\n",
      "Could not geocode 13972 E FRANCISQUITO AVE,  BALDWIN PARK,  CA 91706\n",
      "Could not geocode 18145 W SOLEDAD CANYON RD,  SANTA CLARITA,  CA 91351\n",
      "Could not geocode 3727 N EQUATION RD,  POMONA,  CA 91767\n",
      "Could not geocode 22503 MEYLER ST,  TORRANCE,  CA 90502\n",
      "Could not geocode 3667 W VALLEY BLVD,  POMONA,  CA 91768\n",
      "Could not geocode 16601 S GARFIELD AVE,  PARAMOUNT,  CA 90723\n",
      "Could not geocode 24815 S NORMANDIE,  HARBOR CITY,  CA 90710\n",
      "Could not geocode 29021 BOUQUET CANYON RD,  SAUGUS,  CA 91350\n",
      "Could not geocode 2550 PACIFIC COAST HWY,  TORRANCE,  CA 90505\n",
      "Could not geocode 20550 S EARL ST,  TORRANCE,  CA 90503\n",
      "Could not geocode 4071 GRANDVIEW BLVD,  LOS ANGELES,  CA 90066\n",
      "Could not geocode 1010 W HOLT BLVD,  POMONA,  CA 91768\n",
      "Could not geocode 1111 PRICE AVE,  POMONA,  CA 91767\n",
      "Could not geocode 20806 S GRIDLEY RD,  LAKEWOOD,  CA 90715\n",
      "Could not geocode 15445 COLBALT AVE,  SYLMAR,  CA 91342\n",
      "Could not geocode 7337 ETHEL AVE,  NORTH HOLLYWOOD,  CA 91605\n",
      "Could not geocode 15300 BRAND BLVD.,  MGR'S OFF,  MISSION HILLS\n",
      "Could not geocode 10711 SHERMAN GROVE AVE,  SUNLAND,  CA 91040\n",
      "Could not geocode 10799 SHERMAN GROVE AVE,  SUNLAND,  CA 91040\n",
      "Could not geocode 10444 SHERMAN GROVE,  SUNLAND,  CA 91040\n",
      "Could not geocode 20315 S DENKER STREET,  TORRANCE,  CA 90501\n",
      "Could not geocode 201 E ARROW HWY,  GLENDORA,  CA 91740\n",
      "Could not geocode 10001 W FRONTAGE RD,  SOUTH GATE,  CA 90280\n",
      "Could not geocode 425 E GARDENA BLVD,  GARDENA,  CA 90248\n",
      "Could not geocode 45044 N 28TH ST EAST,  LANCASTER,  CA 93535\n",
      "Could not geocode 22404 S NORMANDIE AVE #7015,  TORRANCE,  CA 90502\n",
      "Could not geocode 12775 E GARVEY     #0037,  BALDWIN PARK,  CA 91706\n",
      "Could not geocode 1020 S MOUNTAIN AVE,  MONROVIA,  CA 91016\n",
      "Could not geocode 37311 N 47TH ST,  PALMDALE,  CA 93552\n",
      "Could not geocode 14527 S VERMONT,  GARDENA,  CA 90247\n",
      "Could not geocode 8127 S ATLANTIC AVE,  CUDAHY,  CA 90201\n",
      "Could not geocode 9585 E GARVEY,  S EL MONTE,  CA 91733\n",
      "Could not geocode 36223 N SIERRA HWY,  PALMDALE,  CA 93550\n",
      "Could not geocode 11401 N TOPANGA CANYON BLVD,  CHATSWORTH,  CA 91311\n",
      "Could not geocode 7101 ROSECRANS AVE RESIDENT IN #1,  PARAMOUNT,  CA 90723\n",
      "Could not geocode 10645 SOLEDAD CANYON RD,  SANTA CLARITA,  CA 91350\n",
      "Could not geocode 18348 W AVE D,  LANCASTER,  CA 93534\n",
      "Could not geocode 1630 S BARRANCA,  GLENDORA,  CA 91740\n",
      "Could not geocode 18151 VALLEY BLVD #0460,  LA PUENTE,  CA 91744\n",
      "Could not geocode 19127 S PIONEER BLVD,  ARTESIA,  CA 90701\n",
      "Could not geocode 30473 MULHOLLAND HWY,  AGOURA,  CA 91301\n",
      "Could not geocode TWO HARBORS,  AVALON,  CA 90704\n",
      "Could not geocode 1667 LAS VIRGENES CANYON RD,  CALABASAS,  CA 91302\n",
      "Could not geocode 9051 LAUREL CANYON BLVD #55,  SUN VALLEY,  CA 91352\n",
      "Could not geocode 22221 S BLOOMFIELD AVE,  HAWAIIAN GARDENS,  CA 90716\n",
      "Could not geocode 8701 8801 ETON AVE,  CANOGA PARK,  CA 91304\n",
      "Could not geocode 3255 E AVE R,  PALMDALE,  CA 93550\n",
      "Could not geocode 38015 30TH ST EAST,  PALMDALE,  CA 93550\n",
      "Could not geocode 208 S BARRANCA,  GLENDORA,  CA 91741\n",
      "Could not geocode 43850 N 20TH ST EAST,  LANCASTER,  CA 93535\n",
      "Could not geocode 3524 E AVE R,  PALMDALE,  CA 93550\n",
      "Could not geocode 650 LA SEDA RD,  LA PUENTE,  CA 91744\n",
      "Could not geocode 3033 E VALLEY BLVD,  WEST COVINA,  CA 91792\n",
      "Could not geocode 16108 S ATLANTIC AVE,  COMPTON,  CA 90221\n",
      "Could not geocode 1035 E HUNTINGTON DR,  MONROVIA,  CA 91016\n",
      "Could not geocode 2451 W SOLEDAD CANYON RD,  ACTON,  CA 93510\n",
      "Could not geocode 27946 HENRY MAYO RD,  CASTAIC,  CA 91310\n",
      "Could not geocode 760 W LOMITA BLVD,  HARBOR CITY,  CA 90710\n",
      "Could not geocode 1000 N FIGUEROA ST,  WILMINGTON,  CA 90744\n",
      "Could not geocode 13130 SOLEDAD CANYON RD,  SAUGUS,  CA 91390\n",
      "Could not geocode 21711 S VERA ST,  CARSON,  CA 90745\n",
      "Could not geocode 21811 S VERA ST,  CARSON,  CA 90745\n",
      "Could not geocode 901 S 6TH AVE,  HACIENDA HEIGHTS,  CA 91745\n",
      "Could not geocode 4444 E AVE R,  PALMDALE,  CA 93550\n",
      "Could not geocode 36200 N PARADISE RD,  CASTAIC,  CA 91384\n",
      "Could not geocode 16274 VASQUEZ CANYON RD,  CANYON COUNTRY,  CA 91351\n",
      "Could not geocode 17350 EAST TEMPLE AVE,  LA PUENTE,  CA 91744\n",
      "Could not geocode 16079 YARNELL ST,  SYLMAR,  CA 91342\n",
      "Could not geocode 1065 W LOMITA BLVD,  HARBOR CITY,  CA 90710\n",
      "Could not geocode 10525 E COMPTON BLVD,  BELLFLOWER,  CA 90706\n",
      "Could not geocode 48303 N 20TH ST WEST,  LANCASTER,  CA 93534\n",
      "Could not geocode 2501 SIERRA HWY,  ACTON,  CA 93510\n",
      "Could not geocode 2275 W 25TH ST,  SAN PEDRO,  CA 90732\n",
      "Could not geocode 17700 S AVALON BLVD ATTN:  MANAGER,  CARSON,  CA 90746\n",
      "Could not geocode 30000 SAND CANYON RD,  CANYON COUNTRY,  CA 91387\n",
      "Could not geocode 6632 COLMAR ST,  BELL GARDENS,  CA 90201\n",
      "Could not geocode 3800 N BRADFORD ST,  LA VERNE,  CA 91750\n",
      "Could not geocode 15445 BERMUDA ST,  MISSION HILLS,  CA 91345\n",
      "Could not geocode 16707 S GARFIELD,  PARAMOUNT,  CA 90723\n",
      "Could not geocode 15831 OLDEN ST,  SYLMAR,  CA 91342\n",
      "Could not geocode 15325 ORANGE AVE OFFICE,  PARAMOUNT,  CA 90723\n",
      "Could not geocode 11730 E WHITTIER BLVD 77,  WHITTIER,  CA 90601\n",
      "Could not geocode 24303 WOOLSEY CANYON RD,  CANOGA PARK,  CA 91304\n",
      "Could not geocode 24425 WOOLSEY CANYON RD,  WEST HILLS,  CA 91304\n",
      "Could not geocode 2601 E VICTORIA,  COMPTON,  CA 90220\n",
      "Could not geocode 422 W ROUTE 66,  GLENDORA,  CA 91740\n",
      "Could not geocode 826 E ROUTE  66,  GLENDORA,  CA 91740\n",
      "Could not geocode 423 W ROUTE 66,  GLENDORA,  CA 91740\n",
      "Could not geocode 337 W ROUTE 66,  GLENDORA,  CA 91740\n",
      "Could not geocode 925 W BONITA,  GLENDORA,  CA 91740\n",
      "Could not geocode 21217 E WASHINGTON,  WALNUT,  CA 91789\n",
      "Could not geocode 2330 E AVE J8 CLUBHOUSE,  LANCASTER,  CA 93535\n",
      "Could not geocode 19009 LAUREL PARK RD,  COMPTON,  CA 90220\n",
      "Could not geocode 11141 OSBORNE ST,  KAGEL CANYON,  CA 91342\n",
      "Could not geocode 42505 RANCH CLUB RD,  LAKE ELIZABETH,  CA 93532\n",
      "Could not geocode 13691 GAVINA AVE,  SYLMAR,  CA 91342\n",
      "Could not geocode 1030 EAST AVENUE S,  PALMDALE,  CA 93550\n",
      "Could not geocode 1535 SIERRA HWY,  ACTON,  CA 93510\n",
      "Could not geocode 17100 S GRAMERCY PL,  GARDENA,  CA 90247\n"
     ]
    }
   ],
   "source": [
    "for index, row in mhp.iterrows():\n",
    "\n",
    "    # identify the address column\n",
    "    address = row['Park Address']\n",
    "    \n",
    "    try:\n",
    "        \n",
    "        # geocode it\n",
    "#         geocoded_address = ox.geocoder.geocode(address)\n",
    "        gpd.tools.geocode(address, provider='photon')\n",
    "        \n",
    "        # add it to the dataframe\n",
    "        mhp.at[index,'lat']=geocoded_address[0]\n",
    "        mhp.at[index,'lon']=geocoded_address[1]\n",
    "\n",
    "        # print the output\n",
    "        print(address + ' geocoded to ' + str(geocoded_address[0])+' '+str(geocoded_address[1]))        \n",
    "\n",
    "    except:\n",
    "        print('Could not geocode '+ address)\n",
    "        pass"
   ]
  },
  {
   "cell_type": "code",
   "execution_count": null,
   "id": "aca90ce2-86c3-4218-9903-29fa0cac8b9f",
   "metadata": {},
   "outputs": [],
   "source": [
    "mhp"
   ]
  },
  {
   "cell_type": "markdown",
   "id": "e21472cd-a83b-4e5d-adef-4bbe70649464",
   "metadata": {},
   "source": [
    "I can see **most** of the addresses were successfully geocoded"
   ]
  },
  {
   "cell_type": "code",
   "execution_count": null,
   "id": "4cfed537-5d53-4413-a7a1-933defa7be57",
   "metadata": {},
   "outputs": [],
   "source": [
    "geocoded = mhp[mhp.lat.notnull()]"
   ]
  },
  {
   "cell_type": "code",
   "execution_count": null,
   "id": "813cfe70-9713-4114-b730-eef8e04e06d1",
   "metadata": {},
   "outputs": [],
   "source": [
    "geocoded"
   ]
  },
  {
   "cell_type": "markdown",
   "id": "87fbb91d-25fb-4fad-a731-27d6455413a6",
   "metadata": {},
   "source": [
    "**Convert to geodataframe**"
   ]
  },
  {
   "cell_type": "markdown",
   "id": "f1e7ad19-a017-4480-9a5b-ec1ad87b7fc9",
   "metadata": {},
   "source": [
    "The resulting table is a pandas dataframe. I'll convert it to a geodataframe. Since the addresses were geocoded to their latitude and longitude coordinates, I'll specify here to use the WGS84 geographic coordinate system using EPSG: 4326"
   ]
  },
  {
   "cell_type": "code",
   "execution_count": null,
   "id": "adca6588-6ea2-4106-84fc-17db18a505f4",
   "metadata": {},
   "outputs": [],
   "source": [
    "# convert pandas dataframe to geodataframe\n",
    "geomhp = gpd.GeoDataFrame(geocoded, \n",
    "                                     crs=\"EPSG:4326\",\n",
    "                                     geometry=gpd.points_from_xy(geocoded.lon, geocoded.lat))"
   ]
  },
  {
   "cell_type": "code",
   "execution_count": null,
   "id": "794f68e5-57a6-413e-9cce-62afa5eecaf3",
   "metadata": {},
   "outputs": [],
   "source": [
    "geomhp"
   ]
  },
  {
   "cell_type": "markdown",
   "id": "a19721e7-980c-4f23-9190-632d4d20a462",
   "metadata": {},
   "source": [
    "**Add base layer capability**"
   ]
  },
  {
   "cell_type": "markdown",
   "id": "1d6aa3c4-6cc9-404c-bc19-7d5300598a94",
   "metadata": {},
   "source": [
    "Next, I'll project it to a web mercator projection to allow contextily titles to work as a base layer"
   ]
  },
  {
   "cell_type": "code",
   "execution_count": null,
   "id": "01ff7e85-05b1-418a-a3f3-75cbcb0dcb5e",
   "metadata": {},
   "outputs": [],
   "source": [
    "# reproject to web mercator\n",
    "crsmhp = geomhp.to_crs(epsg=3857)"
   ]
  },
  {
   "cell_type": "code",
   "execution_count": null,
   "id": "a9e4fd59-4766-4df5-b1d2-fa69ed0bf9ec",
   "metadata": {},
   "outputs": [],
   "source": [
    "crsmhp"
   ]
  },
  {
   "cell_type": "markdown",
   "id": "a3227c07-2024-4455-ad61-e6bd86cffd7d",
   "metadata": {},
   "source": [
    "**Map Time!** :smile:"
   ]
  },
  {
   "cell_type": "code",
   "execution_count": null,
   "id": "89532f94-17cb-4663-8db0-29e73a245370",
   "metadata": {},
   "outputs": [],
   "source": [
    "ax = crsmhp.plot(figsize=(12,20),\n",
    "                              column='City',\n",
    "                              legend=True,\n",
    "                              cmap='Set1',\n",
    "                             markersize=60)\n",
    "\n",
    "ax.axis('off')\n",
    "ctx.add_basemap(ax,source=ctx.providers.CartoDB.Positron)"
   ]
  },
  {
   "cell_type": "markdown",
   "id": "c0f57016-bc62-453b-be48-1769bed12252",
   "metadata": {},
   "source": [
    "Now, my map doesn't look as clear as I'd like. It's helpful to know every city but there are areas of concentration, and the overlaps take away from the map. Geocoding was helpful because it gave me a visual of our data, and that in turn will help me think about next steps. I also have to consider that the command didn't geocode all the addresses- so i'll have to export this dataframe to csv and geocode the remaining addresses. \n",
    "\n",
    "For the map, I will explore mapping them based on numbers of mobile homes and RVs."
   ]
  },
  {
   "cell_type": "code",
   "execution_count": null,
   "id": "bb4b90d3-fa0e-4ca2-a042-c63bed03f6ad",
   "metadata": {},
   "outputs": [],
   "source": [
    "crsmhp"
   ]
  },
  {
   "cell_type": "markdown",
   "id": "bcc21624-499f-4b5e-aefa-fb51272e80c2",
   "metadata": {},
   "source": [
    "**Filtering Data**"
   ]
  },
  {
   "cell_type": "markdown",
   "id": "0819f79c-df12-40b6-9432-4af0bb4a3521",
   "metadata": {},
   "source": [
    "I know that my data has 596 samples, but I want to know more about how many units exists in each park. "
   ]
  },
  {
   "cell_type": "code",
   "execution_count": null,
   "id": "39f32bba-29bb-4fe0-90d8-1d84d5d44310",
   "metadata": {},
   "outputs": [],
   "source": [
    "mhp.info()"
   ]
  },
  {
   "cell_type": "code",
   "execution_count": null,
   "id": "7b7f52a8-c2d3-42eb-bed8-c06e9071d5fc",
   "metadata": {},
   "outputs": [],
   "source": [
    "new = mhp[mhp.geometry.isnull()]"
   ]
  },
  {
   "cell_type": "code",
   "execution_count": null,
   "id": "d32edeb6-0628-4b51-8302-8d5d28304b85",
   "metadata": {},
   "outputs": [],
   "source": [
    "new.head()"
   ]
  },
  {
   "cell_type": "code",
   "execution_count": null,
   "id": "28b639a2-2143-4049-b5e3-a89d5ceb3472",
   "metadata": {},
   "outputs": [],
   "source": [
    "notgeocoded = mhp[mhp.lat.isnull()]"
   ]
  },
  {
   "cell_type": "code",
   "execution_count": null,
   "id": "464d3e4e-8d68-44c5-bb3e-28c6fb727404",
   "metadata": {},
   "outputs": [],
   "source": [
    "notgeocoded"
   ]
  },
  {
   "cell_type": "code",
   "execution_count": null,
   "id": "6f6972d3-5984-4c22-bace-101dd13a8002",
   "metadata": {},
   "outputs": [],
   "source": [
    "notgeocoded.to_csv(\"MHP_notgeocoded.csv\")"
   ]
  },
  {
   "cell_type": "code",
   "execution_count": null,
   "id": "3dc05ccc-cdce-49d8-8d8f-4711897471a8",
   "metadata": {},
   "outputs": [],
   "source": [
    "geomhp.to_file(\"MHP_geocoded.csv\")"
   ]
  },
  {
   "cell_type": "code",
   "execution_count": null,
   "id": "8ad1f0b8-10d7-4630-b274-d85ef31478ad",
   "metadata": {},
   "outputs": [],
   "source": [
    "geomhp.to_file(\"MHP_geocoded.geojson\", driver='GeoJSON')"
   ]
  },
  {
   "cell_type": "code",
   "execution_count": null,
   "id": "6566e031-49b1-4d69-8618-c67fe136f43c",
   "metadata": {},
   "outputs": [],
   "source": []
  }
 ],
 "metadata": {
  "kernelspec": {
   "display_name": "Python 3 (ipykernel)",
   "language": "python",
   "name": "python3"
  },
  "language_info": {
   "codemirror_mode": {
    "name": "ipython",
    "version": 3
   },
   "file_extension": ".py",
   "mimetype": "text/x-python",
   "name": "python",
   "nbconvert_exporter": "python",
   "pygments_lexer": "ipython3",
   "version": "3.9.6"
  }
 },
 "nbformat": 4,
 "nbformat_minor": 5
}
