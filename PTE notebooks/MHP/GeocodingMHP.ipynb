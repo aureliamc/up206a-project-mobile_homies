{
 "cells": [
  {
   "cell_type": "markdown",
   "id": "88c6617a-252f-4d28-9073-2fabd57b1fed",
   "metadata": {},
   "source": [
    "#**Geocoding Existing Mobile Home Parks (MHP) in Los Angeles County**"
   ]
  },
  {
   "cell_type": "markdown",
   "id": "61196be6-ed4e-4ce7-843d-b937591afa30",
   "metadata": {},
   "source": [
    "This notebook goes through the process of geocoding the mobile home park dataset from LA County. Since our data only included addresses, we will need to convert the addresses to geographic coordinates."
   ]
  },
  {
   "cell_type": "markdown",
   "id": "6f2578b6-ccf3-42c5-a311-9dd33968e049",
   "metadata": {},
   "source": [
    "**Import Libraries**"
   ]
  },
  {
   "cell_type": "code",
   "execution_count": 1,
   "id": "c0cde90d-be2b-499b-a72b-81c55d268bf5",
   "metadata": {},
   "outputs": [],
   "source": [
    "import osmnx as ox\n",
    "import geopandas as gpd\n",
    "import contextily as ctx\n",
    "import plotly.express as px\n",
    "import pandas as pd"
   ]
  },
  {
   "cell_type": "code",
   "execution_count": 2,
   "id": "4d675a80-d5f0-4bbd-bffe-b008418fc2b0",
   "metadata": {},
   "outputs": [],
   "source": [
    "mhp = pd.read_csv( 'Data/CAHCD_1026.csv')"
   ]
  },
  {
   "cell_type": "code",
   "execution_count": null,
   "id": "420b6509-213e-42df-bc92-ac56a79aaf09",
   "metadata": {},
   "outputs": [],
   "source": []
  },
  {
   "cell_type": "markdown",
   "id": "a64f71b6-2005-4d07-aaee-5ebf878bb9c7",
   "metadata": {},
   "source": [
    "**Data Exploration**"
   ]
  },
  {
   "cell_type": "code",
   "execution_count": 3,
   "id": "24043d24-c3b7-4f46-9ba4-b6212dafe870",
   "metadata": {},
   "outputs": [
    {
     "data": {
      "text/html": [
       "<div>\n",
       "<style scoped>\n",
       "    .dataframe tbody tr th:only-of-type {\n",
       "        vertical-align: middle;\n",
       "    }\n",
       "\n",
       "    .dataframe tbody tr th {\n",
       "        vertical-align: top;\n",
       "    }\n",
       "\n",
       "    .dataframe thead th {\n",
       "        text-align: right;\n",
       "    }\n",
       "</style>\n",
       "<table border=\"1\" class=\"dataframe\">\n",
       "  <thead>\n",
       "    <tr style=\"text-align: right;\">\n",
       "      <th></th>\n",
       "      <th>Park Name</th>\n",
       "      <th>County</th>\n",
       "      <th>Park Identifier</th>\n",
       "      <th>Park Address</th>\n",
       "      <th>City</th>\n",
       "      <th>Zip</th>\n",
       "      <th>Phone</th>\n",
       "      <th>Fire Authority</th>\n",
       "      <th>Jurisdiction</th>\n",
       "      <th>MH Spaces</th>\n",
       "      <th>RV Lots W/Drains</th>\n",
       "      <th>RV Lots W/O Drains</th>\n",
       "      <th>Operated by</th>\n",
       "    </tr>\n",
       "  </thead>\n",
       "  <tbody>\n",
       "    <tr>\n",
       "      <th>0</th>\n",
       "      <td>IMPERIAL TRAILER PARK</td>\n",
       "      <td>LOS ANGELES</td>\n",
       "      <td>13-0018-MP</td>\n",
       "      <td>600 N IMPERIAL AVE,  HAWTHORNE,  CA 90250</td>\n",
       "      <td>HAWTHORNE</td>\n",
       "      <td>90250</td>\n",
       "      <td>NaN</td>\n",
       "      <td>COUNTY OF LOS ANGELES, 5823 RICKENBACKER RD., ...</td>\n",
       "      <td>IMPERIAL COUNTY BUILDING DEPARTMENT, 801 MAIN ...</td>\n",
       "      <td>8</td>\n",
       "      <td>0</td>\n",
       "      <td>0</td>\n",
       "      <td>HOLCOM, BRADLEY, PO BOX 3162, SAN DIEGO, CA 92163</td>\n",
       "    </tr>\n",
       "    <tr>\n",
       "      <th>1</th>\n",
       "      <td>CHETS TRAILER PARK</td>\n",
       "      <td>LOS ANGELES</td>\n",
       "      <td>19-0001-MP</td>\n",
       "      <td>4630 W ROSECRANS AVE ,  LAWNDALE,  CA 90260</td>\n",
       "      <td>LAWNDALE</td>\n",
       "      <td>90260</td>\n",
       "      <td>(310) 676-0663</td>\n",
       "      <td>COUNTY OF LOS ANGELES, 5823 RICKENBACKER RD., ...</td>\n",
       "      <td>HCD - SOUTHERN AREA OFFICE, 3737 MAIN ST 400, ...</td>\n",
       "      <td>49</td>\n",
       "      <td>0</td>\n",
       "      <td>0</td>\n",
       "      <td>DOSHI, NAVINCHANDRA, 6418 SPRING PARK AVE, LOS...</td>\n",
       "    </tr>\n",
       "    <tr>\n",
       "      <th>2</th>\n",
       "      <td>A &amp; A MOBILE HOME PARK</td>\n",
       "      <td>LOS ANGELES</td>\n",
       "      <td>19-0003-MP</td>\n",
       "      <td>7722 ATLANTIC BLVD,  CUDAHY,  CA 90201</td>\n",
       "      <td>CUDAHY</td>\n",
       "      <td>90201</td>\n",
       "      <td>(310) 676-0663</td>\n",
       "      <td>COUNTY OF LOS ANGELES, 5823 RICKENBACKER RD., ...</td>\n",
       "      <td>HCD - SOUTHERN AREA OFFICE, 3737 MAIN ST 400, ...</td>\n",
       "      <td>21</td>\n",
       "      <td>0</td>\n",
       "      <td>0</td>\n",
       "      <td>A &amp; A MHP LLC, 26895 ALISO CREEK RD #B876, ALI...</td>\n",
       "    </tr>\n",
       "    <tr>\n",
       "      <th>3</th>\n",
       "      <td>ACE TRAILER PARK</td>\n",
       "      <td>LOS ANGELES</td>\n",
       "      <td>19-0006-MP</td>\n",
       "      <td>6508 FLORENCE PL,  BELL GARDENS,  CA 90201</td>\n",
       "      <td>BELL GARDENS</td>\n",
       "      <td>90201</td>\n",
       "      <td>(213) 927-2868</td>\n",
       "      <td>COUNTY OF LOS ANGELES, 5823 RICKENBACKER RD., ...</td>\n",
       "      <td>HCD - SOUTHERN AREA OFFICE, 3737 MAIN ST 400, ...</td>\n",
       "      <td>8</td>\n",
       "      <td>0</td>\n",
       "      <td>0</td>\n",
       "      <td>LUELLA PERDEW REVOCABLE TRUST, PO BOX 3259, WI...</td>\n",
       "    </tr>\n",
       "    <tr>\n",
       "      <th>4</th>\n",
       "      <td>ACORN TP</td>\n",
       "      <td>LOS ANGELES</td>\n",
       "      <td>19-0009-MP</td>\n",
       "      <td>2818 DURFEE AVE,  EL MONTE,  CA 91732</td>\n",
       "      <td>EL MONTE</td>\n",
       "      <td>91732</td>\n",
       "      <td>(818) 350-5235</td>\n",
       "      <td>COUNTY OF LOS ANGELES, 5823 RICKENBACKER RD., ...</td>\n",
       "      <td>HCD - SOUTHERN AREA OFFICE, 3737 MAIN ST 400, ...</td>\n",
       "      <td>20</td>\n",
       "      <td>0</td>\n",
       "      <td>0</td>\n",
       "      <td>PATTERSON, GLEN, PO BOX 1811, MYRTLE CREEK, OR...</td>\n",
       "    </tr>\n",
       "  </tbody>\n",
       "</table>\n",
       "</div>"
      ],
      "text/plain": [
       "                Park Name       County Park Identifier  \\\n",
       "0   IMPERIAL TRAILER PARK  LOS ANGELES      13-0018-MP   \n",
       "1      CHETS TRAILER PARK  LOS ANGELES      19-0001-MP   \n",
       "2  A & A MOBILE HOME PARK  LOS ANGELES      19-0003-MP   \n",
       "3        ACE TRAILER PARK  LOS ANGELES      19-0006-MP   \n",
       "4                ACORN TP  LOS ANGELES      19-0009-MP   \n",
       "\n",
       "                                  Park Address           City    Zip  \\\n",
       "0    600 N IMPERIAL AVE,  HAWTHORNE,  CA 90250      HAWTHORNE  90250   \n",
       "1  4630 W ROSECRANS AVE ,  LAWNDALE,  CA 90260       LAWNDALE  90260   \n",
       "2       7722 ATLANTIC BLVD,  CUDAHY,  CA 90201         CUDAHY  90201   \n",
       "3   6508 FLORENCE PL,  BELL GARDENS,  CA 90201   BELL GARDENS  90201   \n",
       "4        2818 DURFEE AVE,  EL MONTE,  CA 91732       EL MONTE  91732   \n",
       "\n",
       "             Phone                                     Fire Authority  \\\n",
       "0              NaN  COUNTY OF LOS ANGELES, 5823 RICKENBACKER RD., ...   \n",
       "1   (310) 676-0663  COUNTY OF LOS ANGELES, 5823 RICKENBACKER RD., ...   \n",
       "2   (310) 676-0663  COUNTY OF LOS ANGELES, 5823 RICKENBACKER RD., ...   \n",
       "3   (213) 927-2868  COUNTY OF LOS ANGELES, 5823 RICKENBACKER RD., ...   \n",
       "4   (818) 350-5235  COUNTY OF LOS ANGELES, 5823 RICKENBACKER RD., ...   \n",
       "\n",
       "                                        Jurisdiction  MH Spaces  \\\n",
       "0  IMPERIAL COUNTY BUILDING DEPARTMENT, 801 MAIN ...          8   \n",
       "1  HCD - SOUTHERN AREA OFFICE, 3737 MAIN ST 400, ...         49   \n",
       "2  HCD - SOUTHERN AREA OFFICE, 3737 MAIN ST 400, ...         21   \n",
       "3  HCD - SOUTHERN AREA OFFICE, 3737 MAIN ST 400, ...          8   \n",
       "4  HCD - SOUTHERN AREA OFFICE, 3737 MAIN ST 400, ...         20   \n",
       "\n",
       "   RV Lots W/Drains  RV Lots W/O Drains  \\\n",
       "0                 0                   0   \n",
       "1                 0                   0   \n",
       "2                 0                   0   \n",
       "3                 0                   0   \n",
       "4                 0                   0   \n",
       "\n",
       "                                         Operated by  \n",
       "0  HOLCOM, BRADLEY, PO BOX 3162, SAN DIEGO, CA 92163  \n",
       "1  DOSHI, NAVINCHANDRA, 6418 SPRING PARK AVE, LOS...  \n",
       "2  A & A MHP LLC, 26895 ALISO CREEK RD #B876, ALI...  \n",
       "3  LUELLA PERDEW REVOCABLE TRUST, PO BOX 3259, WI...  \n",
       "4  PATTERSON, GLEN, PO BOX 1811, MYRTLE CREEK, OR...  "
      ]
     },
     "execution_count": 3,
     "metadata": {},
     "output_type": "execute_result"
    }
   ],
   "source": [
    "mhp.head()"
   ]
  },
  {
   "cell_type": "markdown",
   "id": "7589e35f-093e-465f-8f1a-b981d78bbfe6",
   "metadata": {},
   "source": [
    "**Trim the Data**"
   ]
  },
  {
   "cell_type": "code",
   "execution_count": 4,
   "id": "0ca3517f-60fd-488c-a9c5-a88fcf1aad75",
   "metadata": {},
   "outputs": [
    {
     "name": "stdout",
     "output_type": "stream",
     "text": [
      "<class 'pandas.core.frame.DataFrame'>\n",
      "RangeIndex: 596 entries, 0 to 595\n",
      "Data columns (total 13 columns):\n",
      " #   Column              Non-Null Count  Dtype \n",
      "---  ------              --------------  ----- \n",
      " 0   Park Name           596 non-null    object\n",
      " 1   County              596 non-null    object\n",
      " 2   Park Identifier     596 non-null    object\n",
      " 3   Park Address        596 non-null    object\n",
      " 4   City                596 non-null    object\n",
      " 5   Zip                 596 non-null    object\n",
      " 6   Phone               586 non-null    object\n",
      " 7   Fire Authority      596 non-null    object\n",
      " 8   Jurisdiction        596 non-null    object\n",
      " 9   MH Spaces           596 non-null    int64 \n",
      " 10  RV Lots W/Drains    596 non-null    int64 \n",
      " 11  RV Lots W/O Drains  596 non-null    int64 \n",
      " 12  Operated by         595 non-null    object\n",
      "dtypes: int64(3), object(10)\n",
      "memory usage: 60.7+ KB\n"
     ]
    }
   ],
   "source": [
    "mhp.info()"
   ]
  },
  {
   "cell_type": "markdown",
   "id": "e5158fd5-27ce-4d32-a8b9-c8a946bc8b10",
   "metadata": {},
   "source": [
    "*Because the dataset doesn't have accessive columns, I will keep them in case I want to explore with them later for another analysis"
   ]
  }
 ],
 "metadata": {
  "kernelspec": {
   "display_name": "Python 3 (ipykernel)",
   "language": "python",
   "name": "python3"
  },
  "language_info": {
   "codemirror_mode": {
    "name": "ipython",
    "version": 3
   },
   "file_extension": ".py",
   "mimetype": "text/x-python",
   "name": "python",
   "nbconvert_exporter": "python",
   "pygments_lexer": "ipython3",
   "version": "3.9.6"
  }
 },
 "nbformat": 4,
 "nbformat_minor": 5
}
